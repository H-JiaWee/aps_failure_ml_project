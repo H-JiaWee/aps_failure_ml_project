{
 "cells": [
  {
   "cell_type": "code",
   "execution_count": null,
   "metadata": {},
   "outputs": [],
   "source": [
    "import pandas as pd\n",
    "import sweetviz"
   ]
  },
  {
   "cell_type": "code",
   "execution_count": null,
   "metadata": {},
   "outputs": [],
   "source": [
    "train = pd.read_csv(r\"C:\\Users\\hengj\\Documents\\GitHub\\aps_failure_ml_project\\Raw data\\aps_failure_training_set.csv\")\n",
    "train['class']=train['class'].replace({\"neg\":False,\"pos\":True})\n",
    "cols=train.columns.drop(\"class\")\n",
    "train[cols]=train[cols].apply(pd.to_numeric,errors='coerce')"
   ]
  },
  {
   "cell_type": "code",
   "execution_count": null,
   "metadata": {},
   "outputs": [],
   "source": [
    "my_report = sweetviz.analyze(train)\n",
    "my_report.show_html('Report_wo_target.html')\n",
    "my_report = sweetviz.analyze([train,\"Train\"],target_feat=\"class\")\n",
    "my_report.show_html('Report_w_target.html')"
   ]
  },
  {
   "cell_type": "code",
   "execution_count": 45,
   "metadata": {},
   "outputs": [
    {
     "data": {
      "text/plain": [
       "0        False\n",
       "1        False\n",
       "2        False\n",
       "3        False\n",
       "4        False\n",
       "         ...  \n",
       "59995    False\n",
       "59996    False\n",
       "59997    False\n",
       "59998    False\n",
       "59999    False\n",
       "Name: class, Length: 60000, dtype: bool"
      ]
     },
     "execution_count": 45,
     "metadata": {},
     "output_type": "execute_result"
    }
   ],
   "source": [
    "percent_missing = train.isnull().sum() * 100 / len(train)\n",
    "more_than_20 = percent_missing[ percent_missing >= 20]\n",
    "to_delete_column = more_than_20.index\n",
    "test = train.columns.drop(to_delete_column)\n",
    "test1 = train[test] #removed the columns with %null values > 20"
   ]
  }
 ],
 "metadata": {
  "interpreter": {
   "hash": "d51f260eded27f650258a4de4708081dac957813be8f781887b52b18819514a4"
  },
  "kernelspec": {
   "display_name": "Python 3.9.1 64-bit",
   "language": "python",
   "name": "python3"
  },
  "language_info": {
   "codemirror_mode": {
    "name": "ipython",
    "version": 3
   },
   "file_extension": ".py",
   "mimetype": "text/x-python",
   "name": "python",
   "nbconvert_exporter": "python",
   "pygments_lexer": "ipython3",
   "version": "3.9.5"
  },
  "orig_nbformat": 4
 },
 "nbformat": 4,
 "nbformat_minor": 2
}
