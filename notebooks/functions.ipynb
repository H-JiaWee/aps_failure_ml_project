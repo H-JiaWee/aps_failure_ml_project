{
 "cells": [
  {
   "cell_type": "code",
   "execution_count": 1,
   "metadata": {},
   "outputs": [],
   "source": [
    "import pandas as pd"
   ]
  },
  {
   "cell_type": "code",
   "execution_count": 2,
   "metadata": {},
   "outputs": [],
   "source": [
    "def cost(y_true,y_pred ,positive_label = 'pos', negative_label='neg'):\n",
    "    \n",
    "    data=pd.concat([y_true,y_pred],axis=1)\n",
    "    wrong_negative_labels = 0\n",
    "    wrong_negative_labels_cost =0\n",
    "    \n",
    "    wrong_positive_labels = 0\n",
    "    wrong_positive_labels_cost = 0\n",
    "    \n",
    "    for i,n in data.iterrows():        \n",
    "        if data[data.columns[1]][i] != data[data.columns[0]][i]:\n",
    "            \n",
    "            if data[data.columns[1]][i] == 'pos':\n",
    "                wrong_positive_labels = wrong_positive_labels+1\n",
    "                wrong_positive_labels_cost = wrong_positive_labels_cost+10\n",
    "                \n",
    "            if data[data.columns[1]][i] == 'neg':\n",
    "                wrong_negative_labels = wrong_negative_labels+1\n",
    "                wrong_negative_labels_cost = wrong_negative_labels_cost+ 500\n",
    "            \n",
    "        \n",
    "    print('wrongly labelled positives =', wrong_positive_labels)\n",
    "    print('wrongly labelled negatives =', wrong_negative_labels)  \n",
    "    print('total cost of wrongly labelling =' , wrong_negative_labels_cost+wrong_positive_labels_cost)\n",
    "    "
   ]
  },
  {
   "cell_type": "code",
   "execution_count": null,
   "metadata": {},
   "outputs": [],
   "source": [
    "def preprocess:\n",
    "    "
   ]
  }
 ],
 "metadata": {
  "kernelspec": {
   "display_name": "Python 3.9.5 64-bit",
   "language": "python",
   "name": "python3"
  },
  "language_info": {
   "codemirror_mode": {
    "name": "ipython",
    "version": 3
   },
   "file_extension": ".py",
   "mimetype": "text/x-python",
   "name": "python",
   "nbconvert_exporter": "python",
   "pygments_lexer": "ipython3",
   "version": "3.9.5"
  },
  "vscode": {
   "interpreter": {
    "hash": "d51f260eded27f650258a4de4708081dac957813be8f781887b52b18819514a4"
   }
  }
 },
 "nbformat": 4,
 "nbformat_minor": 4
}
