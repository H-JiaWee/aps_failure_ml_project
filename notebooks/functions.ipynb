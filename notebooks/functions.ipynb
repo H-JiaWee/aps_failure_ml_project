{
 "cells": [
  {
   "cell_type": "code",
   "execution_count": 1,
   "metadata": {},
   "outputs": [],
   "source": [
    "import pandas as pd"
   ]
  },
  {
   "cell_type": "code",
   "execution_count": 2,
   "metadata": {},
   "outputs": [],
   "source": [
    "def cost(y_true,y_pred ,positive_label = 'pos', negative_label='neg'):\n",
    "    \n",
    "    data=pd.concat([y_true,y_pred],axis=1)\n",
    "    wrong_negative_labels = 0\n",
    "    wrong_negative_labels_cost =0\n",
    "    \n",
    "    wrong_positive_labels = 0\n",
    "    wrong_positive_labels_cost = 0\n",
    "    \n",
    "    for i,n in data.iterrows():        \n",
    "        if data[data.columns[1]][i] != data[data.columns[0]][i]:\n",
    "            \n",
    "            if data[data.columns[1]][i] == 'pos':\n",
    "                wrong_positive_labels = wrong_positive_labels+1\n",
    "                wrong_positive_labels_cost = wrong_positive_labels_cost+10\n",
    "                \n",
    "            if data[data.columns[1]][i] == 'neg':\n",
    "                wrong_negative_labels = wrong_negative_labels+1\n",
    "                wrong_negative_labels_cost = wrong_negative_labels_cost+ 500\n",
    "            \n",
    "        \n",
    "    print('wrongly labelled positives =', wrong_positive_labels)\n",
    "    print('wrongly labelled negatives =', wrong_negative_labels)  \n",
    "    print('total cost of wrongly labelling =' , wrong_negative_labels_cost+wrong_positive_labels_cost)\n",
    "    "
   ]
  },
  {
   "cell_type": "code",
   "execution_count": null,
   "metadata": {},
   "outputs": [],
   "source": [
    "def preprocess(test,train):\n",
    "    y_train = train['class']\n",
    "    X_train = train.drop('class',axis=1)\n",
    "\n",
    "    y_test = test['class']\n",
    "    X_test = test.drop('class',axis=1)\n",
    "\n",
    "    X_train.replace('na',np.nan,inplace=True)\n",
    "    X_train=X_train[X_train.columns].apply(pd.to_numeric, errors='coerce')\n",
    "\n",
    "    X_test.replace('na',np.nan,inplace=True)\n",
    "    X_test=X_test[X_train.columns].apply(pd.to_numeric, errors='coerce')\n",
    "\n",
    "    imp = SimpleImputer(missing_values=np.nan, strategy='mean')\n",
    "\n",
    "    X_train_new_adjusted= pd.DataFrame(imp.fit_transform(X_train),columns=X_train.columns)\n",
    "    X_test_new_adjusted= pd.DataFrame(imp.fit_transform(X_test),columns=X_test.columns)\n",
    "\n",
    "    return X_train_new_adjusted,X_test_new_adjusted, y_train, y_test"
   ]
  },
  {
   "cell_type": "code",
   "execution_count": null,
   "metadata": {},
   "outputs": [],
   "source": [
    "def balance_data(df,label):\n",
    "    over = SMOTE(sampling_strategy=0.3)\n",
    "    under = RandomUnderSampler(sampling_strategy=0.5)\n",
    "    steps = [('o', over), ('u', under)]\n",
    "    pipeline = Pipeline(steps=steps)\n",
    "    df, label = pipeline.fit_resample(df, label)\n",
    "    return df, label"
   ]
  }
 ],
 "metadata": {
  "kernelspec": {
   "display_name": "Python 3.9.5 64-bit",
   "language": "python",
   "name": "python3"
  },
  "language_info": {
   "codemirror_mode": {
    "name": "ipython",
    "version": 3
   },
   "file_extension": ".py",
   "mimetype": "text/x-python",
   "name": "python",
   "nbconvert_exporter": "python",
   "pygments_lexer": "ipython3",
   "version": "3.9.5"
  },
  "vscode": {
   "interpreter": {
    "hash": "d51f260eded27f650258a4de4708081dac957813be8f781887b52b18819514a4"
   }
  }
 },
 "nbformat": 4,
 "nbformat_minor": 4
}
