{
 "cells": [
  {
   "cell_type": "code",
   "execution_count": 22,
   "metadata": {},
   "outputs": [],
   "source": [
    "import pandas as pd\n",
    "import numpy as np\n",
    "    \n",
    "from imblearn.under_sampling import RandomUnderSampler\n",
    "from imblearn.over_sampling import SMOTE\n",
    "from imblearn.pipeline import Pipeline"
   ]
  },
  {
   "cell_type": "code",
   "execution_count": 23,
   "metadata": {},
   "outputs": [],
   "source": [
    "def cost(y_true,y_pred ,positive_label = 'pos', negative_label='neg'):\n",
    "    \n",
    "    data=pd.concat([y_true,y_pred],axis=1)\n",
    "    wrong_negative_labels = 0\n",
    "    wrong_negative_labels_cost =0\n",
    "    \n",
    "    wrong_positive_labels = 0\n",
    "    wrong_positive_labels_cost = 0\n",
    "    \n",
    "    for i,n in data.iterrows():        \n",
    "        if data[data.columns[1]][i] != data[data.columns[0]][i]:\n",
    "            \n",
    "            if data[data.columns[1]][i] == 'pos':\n",
    "                wrong_positive_labels = wrong_positive_labels+1\n",
    "                wrong_positive_labels_cost = wrong_positive_labels_cost+10\n",
    "                \n",
    "            if data[data.columns[1]][i] == 'neg':\n",
    "                wrong_negative_labels = wrong_negative_labels+1\n",
    "                wrong_negative_labels_cost = wrong_negative_labels_cost+ 500\n",
    "            \n",
    "        \n",
    "    print('wrongly labelled positives =', wrong_positive_labels)\n",
    "    print('wrongly labelled negatives =', wrong_negative_labels)  \n",
    "    print('total cost of wrongly labelling =' , wrong_negative_labels_cost+wrong_positive_labels_cost)\n",
    "    "
   ]
  },
  {
   "cell_type": "code",
   "execution_count": 24,
   "metadata": {},
   "outputs": [],
   "source": [
    "def preprocess(df):\n",
    "    \n",
    "    X = df.drop('class',axis=1)\n",
    "\n",
    "    X.replace('na',np.nan,inplace=True)\n",
    "    X = X[X.columns].apply(pd.to_numeric, errors='coerce')\n",
    "\n",
    "    imp = SimpleImputer(missing_values=np.nan, strategy='mean')\n",
    "\n",
    "    X = pd.DataFrame(imp.fit_transform(X),columns=X.columns)\n",
    "\n",
    "    return X"
   ]
  },
  {
   "cell_type": "code",
   "execution_count": 25,
   "metadata": {},
   "outputs": [],
   "source": [
    "def balance_data(df,label):\n",
    "\n",
    "    over = SMOTE(sampling_strategy=0.3)\n",
    "    under = RandomUnderSampler(sampling_strategy=0.5)\n",
    "    steps = [('o', over), ('u', under)]\n",
    "    pipeline = Pipeline(steps=steps)\n",
    "    df, label = pipeline.fit_resample(df, label)\n",
    "    return df, label"
   ]
  }
 ],
 "metadata": {
  "kernelspec": {
   "display_name": "Python 3.9.5 64-bit",
   "language": "python",
   "name": "python3"
  },
  "language_info": {
   "codemirror_mode": {
    "name": "ipython",
    "version": 3
   },
   "file_extension": ".py",
   "mimetype": "text/x-python",
   "name": "python",
   "nbconvert_exporter": "python",
   "pygments_lexer": "ipython3",
   "version": "3.9.5"
  },
  "vscode": {
   "interpreter": {
    "hash": "d51f260eded27f650258a4de4708081dac957813be8f781887b52b18819514a4"
   }
  }
 },
 "nbformat": 4,
 "nbformat_minor": 4
}
